{
 "cells": [
  {
   "cell_type": "code",
   "execution_count": null,
   "metadata": {
    "collapsed": false
   },
   "outputs": [],
   "source": [
    "# The pre-cleaned data can be downloaded from my github\n",
    "!git clone --depth 1 https://github.com/rfcoffee/Buffalo-Niagara-Employment/"
   ]
  },
  {
   "cell_type": "code",
   "execution_count": null,
   "metadata": {
    "collapsed": true
   },
   "outputs": [],
   "source": [
    "import numpy as np\n",
    "import pandas as pd\n",
    "import matplotlib.pyplot as plt\n",
    "import datetime\n",
    "%matplotlib notebook"
   ]
  },
  {
   "cell_type": "code",
   "execution_count": null,
   "metadata": {
    "collapsed": false
   },
   "outputs": [],
   "source": [
    "# read CSV to dataframe and simple formatting\n",
    "cpi = pd.read_csv('Buffalo-Niagara-Employment/cpi_northeast.csv')\n",
    "emp = pd.read_csv('Buffalo-Niagara-Employment/emp_tot.csv')\n",
    "hmean = pd.read_csv('Buffalo-Niagara-Employment/h_mean.csv')\n",
    "\n",
    "hmean = hmean.fillna(method='ffill')\n",
    "cpi['Time'] = list(map(lambda x: datetime.datetime.strptime(x, '%Y-%m-%d'), cpi['Time']))\n",
    "emp['date'] = list(map(lambda x: datetime.datetime.strptime(x, '%Y-%m-%d'), emp['date']))\n",
    "emp.set_index('date', inplace=True)\n",
    "hmean['date'] = list(map(lambda x: datetime.datetime.strptime(x, '%Y-%m-%d'), hmean['date']))\n",
    "hmean.set_index('date', inplace=True)\n",
    "\n",
    "cpi.drop('Unnamed: 0', axis=1, inplace=True)\n",
    "cpi = cpi.rename(columns={'Time': 'date'})\n",
    "cpi.set_index('date',inplace=True)\n",
    "cpi = cpi.loc[emp.index.values]"
   ]
  },
  {
   "cell_type": "code",
   "execution_count": null,
   "metadata": {
    "collapsed": true
   },
   "outputs": [],
   "source": [
    "import matplotlib.animation as animation\n",
    "job = emp.columns.values\n",
    "x = emp.index.values"
   ]
  },
  {
   "cell_type": "code",
   "execution_count": null,
   "metadata": {
    "collapsed": false
   },
   "outputs": [],
   "source": [
    "# create the function that will do the plotting, where curr is the current frame\n",
    "def update(curr):\n",
    "    if curr == (len(job)-1): \n",
    "        a.event_source.stop()\n",
    "    plt.clf()\n",
    "    plt.gcf().text(0.013, 0.75, 'Estimated Total Employment', fontsize=10, rotation='vertical', color='blue')\n",
    "    plt.gcf().text(0.976, 0.7, 'Mean Hourly Wage / CPI', fontsize=10, rotation='vertical', color='red')\n",
    "    \n",
    "    ax = plt.gca()\n",
    "    ax2 = ax.twinx()\n",
    "    ax.tick_params(axis='y', which='major', labelsize=8)\n",
    "    ax2.tick_params(axis='y', which='major', labelsize=8)\n",
    "    \n",
    "    ax.axis([datetime.datetime(1999,1,1,0,0),datetime.datetime(2018,1,1,0,0),min(emp[job[curr]])/1.1,1.1*max(emp[job[curr]])])\n",
    "    ax.plot(x, emp[job[curr]], 'bo-')\n",
    "    ax.set_xlabel('Time')\n",
    "    ax.tick_params('y', colors='b')\n",
    "    plt.gcf().text(0.2, 0.91, 'Occupation:  '+job[curr], ha='left')\n",
    "    for item in ax.xaxis.get_ticklabels():\n",
    "        item.set_rotation(45)\n",
    "    \n",
    "    ax2.plot(x, hmean[job[curr]]/cpi['Cpi'], 'ro-')\n",
    "    ax2.tick_params('y', colors='r')\n",
    "\n",
    "\n",
    "# save emp & h_mean variation of all occupations to animation\n",
    "fig = plt.figure(figsize=(7,5))\n",
    "fig.subplots_adjust(bottom=0.2, left = 0.125, right=0.875, top=0.9)\n",
    "a = animation.FuncAnimation(fig, update,interval=700, save_count=21)#, blit=True) frames=90,"
   ]
  },
  {
   "cell_type": "code",
   "execution_count": null,
   "metadata": {
    "collapsed": false
   },
   "outputs": [],
   "source": [
    "# save file to mp4. mp4 can be converted to gif using linux command ffmpeg\n",
    "# note: turn off matplotlib inline before using save()\n",
    "# a.save('movie.mp4', dpi=500)"
   ]
  }
 ],
 "metadata": {
  "kernelspec": {
   "display_name": "Python 3",
   "language": "python",
   "name": "python3"
  },
  "language_info": {
   "codemirror_mode": {
    "name": "ipython",
    "version": 3
   },
   "file_extension": ".py",
   "mimetype": "text/x-python",
   "name": "python",
   "nbconvert_exporter": "python",
   "pygments_lexer": "ipython3",
   "version": "3.6.4"
  }
 },
 "nbformat": 4,
 "nbformat_minor": 2
}
